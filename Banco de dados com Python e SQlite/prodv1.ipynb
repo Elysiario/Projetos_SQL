{
 "cells": [
  {
   "cell_type": "markdown",
   "id": "1abfbc61",
   "metadata": {},
   "source": [
    "## Demonstração Prática 4 - Criação de Pipeline de Extração, Limpeza, Transformação e Enriquecimento de Dados  Versão 5"
   ]
  },
  {
   "cell_type": "code",
   "execution_count": null,
   "id": "cc260d21",
   "metadata": {},
   "outputs": [],
   "source": [
    "# Demonstração Prática 4 - Criação de Pipeline de Extração, Limpeza, Transformação e Enriquecimento de Dados\n",
    "# Versão 5\n",
    "\n",
    "# Imports\n",
    "import csv\n",
    "import sqlite3\n",
    "\n",
    "# Função para remover o ponto da última coluna\n",
    "def remove_ponto(valor):\n",
    "    return int(round(float(valor.replace('.', '')), 0))\n",
    "\n",
    "# Abre o arquivo CSV com os dados da produção de alimentos\n",
    "with open('producao_alimentos.csv', 'r') as file:\n",
    "    \n",
    "    # Cria um leitor de CSV para ler o arquivo\n",
    "    reader = csv.reader(file)\n",
    "\n",
    "    # Pula a primeira linha, que contém os cabeçalhos das colunas\n",
    "    next(reader)\n",
    "\n",
    "    # Conecta ao banco de dados\n",
    "    conn = sqlite3.connect('dsadb.db')\n",
    "\n",
    "    # Deleta a tabela existente, se houver\n",
    "    conn.execute('DROP TABLE IF EXISTS producao')\n",
    "\n",
    "    # Cria uma nova tabela para armazenar os dados de produção de alimentos com a nova coluna 'margem_lucro'\n",
    "    conn.execute('''CREATE TABLE producao (\n",
    "                    produto TEXT,\n",
    "                    quantidade INTEGER,\n",
    "                    preco_medio REAL,\n",
    "                    receita_total INTEGER,\n",
    "                    margem_lucro REAL\n",
    "                )''')\n",
    "\n",
    "    # Insere cada linha do arquivo com quantidade maior que 10 na tabela do banco de dados\n",
    "    for row in reader:\n",
    "        if int(row[1]) > 10:\n",
    "            \n",
    "            # Remove o ponto do valor da última coluna e converte para inteiro\n",
    "            row[3] = remove_ponto(row[3])\n",
    "\n",
    "            # Calcula a margem de lucro bruta com base no valor médio de venda e na receita total e arredonda para duas casas decimais\n",
    "            margem_lucro = round((row[3] / float(row[1])) - float(row[2]), 2)\n",
    "\n",
    "            # Insere a linha com a nova coluna 'margem_lucro' na tabela do banco de dados\n",
    "            conn.execute('INSERT INTO producao (produto, quantidade, preco_medio, receita_total, margem_lucro) VALUES (?, ?, ?, ?, ?)', (row[0], row[1], row[2], row[3], margem_lucro))\n",
    "\n",
    "    conn.commit()\n",
    "    conn.close()\n",
    "\n",
    "print(\"Job Concluído com Sucesso!\")"
   ]
  }
 ],
 "metadata": {
  "kernelspec": {
   "display_name": "Python 3 (ipykernel)",
   "language": "python",
   "name": "python3"
  },
  "language_info": {
   "codemirror_mode": {
    "name": "ipython",
    "version": 3
   },
   "file_extension": ".py",
   "mimetype": "text/x-python",
   "name": "python",
   "nbconvert_exporter": "python",
   "pygments_lexer": "ipython3",
   "version": "3.9.16"
  }
 },
 "nbformat": 4,
 "nbformat_minor": 5
}
